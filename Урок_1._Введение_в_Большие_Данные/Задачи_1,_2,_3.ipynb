{
  "cells": [
    {
      "cell_type": "markdown",
      "metadata": {
        "id": "auXMOyBZvJKt"
      },
      "source": [
        "Задача 1. map( )\n",
        "\n",
        "У нас есть список чисел. Мы хотим получить новый список, в котором каждый элемент будет возводиться\n",
        "в квадрат. Ниже показано решение задача через цикл, решите задачу с помощью функции map:"
      ]
    },
    {
      "cell_type": "code",
      "execution_count": null,
      "metadata": {
        "colab": {
          "base_uri": "https://localhost:8080/"
        },
        "id": "7YdLu6n6vKTS",
        "outputId": "d9bfbba1-b2cc-4094-87cc-f7f7c98dbe5e"
      },
      "outputs": [
        {
          "name": "stdout",
          "output_type": "stream",
          "text": [
            "[1, 4, 9, 16, 25]\n"
          ]
        }
      ],
      "source": [
        "numbers = [1, 2, 3, 4, 5]\n",
        "new_numbers = []\n",
        "for num in numbers:\n",
        "  squared = num**2\n",
        "  new_numbers.append(squared)\n",
        "\n",
        "print(new_numbers)"
      ]
    },
    {
      "cell_type": "code",
      "execution_count": 1,
      "metadata": {
        "colab": {
          "base_uri": "https://localhost:8080/"
        },
        "id": "yyLIO4l5v5T0",
        "outputId": "be885a38-682a-4827-f043-43242c1f3235"
      },
      "outputs": [
        {
          "name": "stdout",
          "output_type": "stream",
          "text": [
            "[1, 4, 9, 16, 25]\n"
          ]
        }
      ],
      "source": [
        "# Ваше решение с помощью функции map\n",
        "numbers = [1, 2, 3, 4, 5]\n",
        "new_numbers = list(map(lambda x: x**2, numbers))\n",
        "print(new_numbers)\n"
      ]
    },
    {
      "cell_type": "markdown",
      "metadata": {
        "id": "jmEBB1dxv4Zz"
      },
      "source": [
        "Задача 2. reduce( )\n",
        "\n",
        "У нас есть список чисел, и мы хотим получить их сумму.\n",
        "Ниже показано решение задача через цикл, решите задачу с помощью функции reduce:"
      ]
    },
    {
      "cell_type": "code",
      "execution_count": null,
      "metadata": {
        "colab": {
          "base_uri": "https://localhost:8080/"
        },
        "id": "FzHo6ssdwXnE",
        "outputId": "c6361000-c7c8-4c37-c5e9-06f3fe488470"
      },
      "outputs": [
        {
          "name": "stdout",
          "output_type": "stream",
          "text": [
            "15\n"
          ]
        }
      ],
      "source": [
        "numbers = [1, 2, 3, 4, 5]\n",
        "result = 0\n",
        "for num in numbers:\n",
        "  result += num\n",
        "\n",
        "print(result)"
      ]
    },
    {
      "cell_type": "code",
      "execution_count": 2,
      "metadata": {
        "colab": {
          "base_uri": "https://localhost:8080/"
        },
        "id": "2x5J3FTTwwjr",
        "outputId": "3432abfd-75e3-4294-b0f9-f5c116b0b218"
      },
      "outputs": [
        {
          "name": "stdout",
          "output_type": "stream",
          "text": [
            "15\n"
          ]
        }
      ],
      "source": [
        "# Ваше решение помощью функции reduce\n",
        "from functools import reduce\n",
        "numbers = [1, 2, 3, 4, 5]\n",
        "result = reduce(lambda x, y: x + y, numbers)\n",
        "print(result)\n"
      ]
    },
    {
      "cell_type": "markdown",
      "metadata": {
        "id": "uQeD4Sjzwz_l"
      },
      "source": [
        "Задача 3. filter( )\n",
        "\n",
        "У нас есть список чисел и мы хотим получить только те, которые больше пяти. Ниже показано решение задача\n",
        "через цикл, решите задачу с помощью функции filter:"
      ]
    },
    {
      "cell_type": "code",
      "execution_count": null,
      "metadata": {
        "colab": {
          "base_uri": "https://localhost:8080/"
        },
        "id": "C5HtYCYawzaq",
        "outputId": "93f1d757-085b-4e3e-970d-7f2e8c269dc2"
      },
      "outputs": [
        {
          "name": "stdout",
          "output_type": "stream",
          "text": [
            "[7, 8]\n"
          ]
        }
      ],
      "source": [
        "numbers = [2, 7, 1, 8, 4, 5]\n",
        "result = []\n",
        "for num in numbers:\n",
        "  if num > 5:\n",
        "    result.append(num)\n",
        "\n",
        "print(result)"
      ]
    },
    {
      "cell_type": "code",
      "execution_count": 3,
      "metadata": {
        "colab": {
          "base_uri": "https://localhost:8080/"
        },
        "id": "XM8bB_uTxKaq",
        "outputId": "5ab79b14-167d-4d1f-e289-631f17e72697"
      },
      "outputs": [
        {
          "name": "stdout",
          "output_type": "stream",
          "text": [
            "[7, 8]\n"
          ]
        }
      ],
      "source": [
        "# ваше решение с помощью функции filter\n",
        "numbers = [2, 7, 1, 8, 4, 5]\n",
        "result = list(filter(lambda x: x > 5, numbers))\n",
        "print(result)\n"
      ]
    }
  ],
  "metadata": {
    "colab": {
      "provenance": []
    },
    "kernelspec": {
      "display_name": "Python 3 (ipykernel)",
      "language": "python",
      "name": "python3"
    }
  },
  "nbformat": 4,
  "nbformat_minor": 0
}
